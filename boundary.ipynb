{
 "cells": [
  {
   "cell_type": "markdown",
   "metadata": {},
   "source": [
    "# Investigating the chaos at the border. \n",
    "# Define chaos: orbit which is bounded but no periodic after n iterations. n = 10,000\n",
    "# Hypothesis: chaos is only found in the border. The inner regions are fixed points or other periodic cycles. This is supported by the findings shown in the diagram below: \n",
    "![<caption>](mandelbrotcycles.jpg) \n",
    "\n",
    "# Summary of findings: chaotic regions are not only restricted to boundaries of the set, but also on the real axis toward the left\n",
    "\n",
    "![<caption>](axischaos.png) \n"
   ]
  },
  {
   "cell_type": "code",
   "execution_count": null,
   "metadata": {},
   "outputs": [],
   "source": [
    "\n",
    "import matplotlib.pyplot as plt\n",
    "import numpy as np\n",
    "\n",
    "z= 0\n",
    "i = 1\n",
    "c=-1.5\n",
    "iterations = []\n",
    "values = []\n",
    "while i < 50:\n",
    "        z=z*z +c\n",
    "        i+=1\n",
    "        values.append(z)\n",
    "        iterations.append(i)\n",
    "\n",
    "print(values)\n",
    "print(iterations)\n",
    "\n",
    "plt.plot(iterations, values)\n",
    "plt.show"
   ]
  },
  {
   "cell_type": "markdown",
   "metadata": {},
   "source": [
    "# Real axis to the left:\n",
    "# c = -2, -1.99, -1.8, -1.5, -1.4, -1.3, -1.401\n",
    "![<caption>](-2.png) \n",
    "![<caption>](-1.99.png) \n",
    "![<caption>](-1.8.png) \n",
    "![<caption>](-1.5.png) \n",
    "![<caption>](-1.4.png) \n",
    "![<caption>](-1.3.png) \n",
    "![<caption>](-1.401.png) \n",
    "\n",
    "# From this, I hypothesize that in the range (-2, -1.4) on the real axis, the orbits are chaotic. Slight deviations in values outside this range yielded converging cycles. \n"
   ]
  },
  {
   "cell_type": "markdown",
   "metadata": {},
   "source": [
    "# On the boundary: where I faced the most difficulties. I couldn't find a pattern to where chaotic boundary points occurred, but after random guessing, I found several which appear to be chaotic. \n",
    "\n",
    "# Limitations: The number of iterations is very small, so chaos cannot be guaranteed\n",
    "# Hypothesis: Chaotic points discovered: c = 0.33 + 0.06i, 0.37 + 0.16i, -0.23 + 0.64i\n",
    "# An image of the first one:\n",
    "![<caption>](chaoticpoint.png) \n"
   ]
  },
  {
   "cell_type": "markdown",
   "metadata": {},
   "source": [
    "# Next steps: study the cusp of the main cardioid and attachment points (green)\n",
    "![<caption>](future.png) \n"
   ]
  }
 ],
 "metadata": {
  "kernelspec": {
   "display_name": "Python 3.8.9 64-bit",
   "language": "python",
   "name": "python3"
  },
  "language_info": {
   "name": "python",
   "version": "3.8.9"
  },
  "orig_nbformat": 4,
  "vscode": {
   "interpreter": {
    "hash": "31f2aee4e71d21fbe5cf8b01ff0e069b9275f58929596ceb00d14d90e3e16cd6"
   }
  }
 },
 "nbformat": 4,
 "nbformat_minor": 2
}
